{
  "nbformat": 4,
  "nbformat_minor": 0,
  "metadata": {
    "colab": {
      "provenance": []
    },
    "kernelspec": {
      "name": "python3",
      "display_name": "Python 3"
    },
    "language_info": {
      "name": "python"
    }
  },
  "cells": [
    {
      "cell_type": "code",
      "source": [
        "class Account():\n",
        "\n",
        " start = 1000\n",
        "\n",
        " def __init__(self, balance = 0):\n",
        "  self.balance = balance\n",
        "  self.account_no = Account.start\n",
        "  Account.start += 1\n",
        "  self.passbook = []\n",
        "\n",
        " def __repr__(self):\n",
        "  return f\"Account : {self.account_no} has balance{self.balance}\"\n",
        "\n",
        " def deposit(self, amount):\n",
        "  if amount > 0:\n",
        "   self.balance += amount\n",
        "   self.passbook.append((\"cr\", amount))\n",
        "  else:\n",
        "   print(\"error\")\n",
        "\n",
        " def withdrawl(self, amount):\n",
        "  if amount > 0 and (self.balance >= amount):\n",
        "   self.balance -= amount\n",
        "   print(\"Grrrrrr!! Take your money\")\n",
        "   self.passbook.append((\"Dr\", amount))\n",
        "  else:\n",
        "   print(\"Error\")"
      ],
      "metadata": {
        "id": "eABe54zCpFx-"
      },
      "execution_count": 16,
      "outputs": []
    },
    {
      "cell_type": "code",
      "source": [
        "a1 = Account()\n",
        "a2 = Account()\n"
      ],
      "metadata": {
        "id": "G_fiz1_EqBbC"
      },
      "execution_count": 17,
      "outputs": []
    },
    {
      "cell_type": "code",
      "source": [
        "a2.account_no\n"
      ],
      "metadata": {
        "colab": {
          "base_uri": "https://localhost:8080/"
        },
        "id": "RjMJnliBqgLn",
        "outputId": "9cf8345b-b8b6-410b-a6fa-7f9d60ce6a4c"
      },
      "execution_count": 18,
      "outputs": [
        {
          "output_type": "execute_result",
          "data": {
            "text/plain": [
              "1001"
            ]
          },
          "metadata": {},
          "execution_count": 18
        }
      ]
    },
    {
      "cell_type": "code",
      "source": [
        "a1.deposit(120)"
      ],
      "metadata": {
        "id": "2cGgawb3q5mI"
      },
      "execution_count": 19,
      "outputs": []
    },
    {
      "cell_type": "code",
      "source": [
        "a1.balance"
      ],
      "metadata": {
        "colab": {
          "base_uri": "https://localhost:8080/"
        },
        "id": "9TKzkeB4LKG7",
        "outputId": "27ee9cae-3f92-4857-97fa-bed31e5a5beb"
      },
      "execution_count": 20,
      "outputs": [
        {
          "output_type": "execute_result",
          "data": {
            "text/plain": [
              "120"
            ]
          },
          "metadata": {},
          "execution_count": 20
        }
      ]
    },
    {
      "cell_type": "code",
      "source": [
        "a2.balance"
      ],
      "metadata": {
        "colab": {
          "base_uri": "https://localhost:8080/"
        },
        "id": "VYRLLO_LLceK",
        "outputId": "7337a1a2-b712-4349-8bd5-1e08a3a5a0d0"
      },
      "execution_count": 21,
      "outputs": [
        {
          "output_type": "execute_result",
          "data": {
            "text/plain": [
              "0"
            ]
          },
          "metadata": {},
          "execution_count": 21
        }
      ]
    },
    {
      "cell_type": "code",
      "source": [
        "a2.withdrawl(10)"
      ],
      "metadata": {
        "colab": {
          "base_uri": "https://localhost:8080/"
        },
        "id": "h5m9nRa6LdgZ",
        "outputId": "3360ce86-9e13-41fd-ab8d-91a114b1a4cc"
      },
      "execution_count": 22,
      "outputs": [
        {
          "output_type": "stream",
          "name": "stdout",
          "text": [
            "Error\n"
          ]
        }
      ]
    },
    {
      "cell_type": "code",
      "source": [
        "a1.withdrawl(30)"
      ],
      "metadata": {
        "colab": {
          "base_uri": "https://localhost:8080/"
        },
        "id": "1CvSTJgWLgJx",
        "outputId": "d0e64a48-6b9b-4271-ccc0-4d4de04610c2"
      },
      "execution_count": 23,
      "outputs": [
        {
          "output_type": "stream",
          "name": "stdout",
          "text": [
            "Grrrrrr!! Take your money\n"
          ]
        }
      ]
    },
    {
      "cell_type": "code",
      "source": [
        "a1.passbook"
      ],
      "metadata": {
        "colab": {
          "base_uri": "https://localhost:8080/"
        },
        "id": "L6iowqdXLjR4",
        "outputId": "c42b5112-4513-48af-cce3-93476cabf141"
      },
      "execution_count": 24,
      "outputs": [
        {
          "output_type": "execute_result",
          "data": {
            "text/plain": [
              "[('cr', 120), ('Dr', 30)]"
            ]
          },
          "metadata": {},
          "execution_count": 24
        }
      ]
    },
    {
      "cell_type": "code",
      "source": [],
      "metadata": {
        "id": "Ak2n1DDWMfc3"
      },
      "execution_count": null,
      "outputs": []
    }
  ]
}